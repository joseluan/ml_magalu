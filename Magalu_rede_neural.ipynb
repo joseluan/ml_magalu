{
  "nbformat": 4,
  "nbformat_minor": 0,
  "metadata": {
    "colab": {
      "provenance": [],
      "authorship_tag": "ABX9TyMm4DzJNoHaM9vs9bJRh4e7",
      "include_colab_link": true
    },
    "kernelspec": {
      "name": "python3",
      "display_name": "Python 3"
    },
    "language_info": {
      "name": "python"
    }
  },
  "cells": [
    {
      "cell_type": "markdown",
      "metadata": {
        "id": "view-in-github",
        "colab_type": "text"
      },
      "source": [
        "<a href=\"https://colab.research.google.com/github/joseluan/ml_magalu/blob/main/Magalu_rede_neural.ipynb\" target=\"_parent\"><img src=\"https://colab.research.google.com/assets/colab-badge.svg\" alt=\"Open In Colab\"/></a>"
      ]
    },
    {
      "cell_type": "code",
      "execution_count": 12,
      "metadata": {
        "id": "f7lDrvEh7Bix"
      },
      "outputs": [],
      "source": [
        "# Importar bibliotecas\n",
        "from sklearn.model_selection import train_test_split\n",
        "from sklearn.neural_network import MLPClassifier\n",
        "from sklearn.metrics import classification_report, confusion_matrix, accuracy_score\n",
        "import matplotlib.pyplot as plt\n",
        "import numpy as np\n",
        "import pandas as pd\n",
        "import nltk\n",
        "import gdown"
      ]
    },
    {
      "cell_type": "code",
      "source": [
        "\n",
        "nome_arquivo = 'magalu.csv'\n",
        "# Baixando o csv das ofertas\n",
        "gdown.download(url='https://drive.google.com/file/d/1PY0Jea-Mu1dohKDaCkjA9ppvAGRuRwA2/view?usp=sharing', output=nome_arquivo, quiet=False, fuzzy=True)"
      ],
      "metadata": {
        "colab": {
          "base_uri": "https://localhost:8080/",
          "height": 110
        },
        "id": "BF0PnKrs7TTJ",
        "outputId": "ba1c62b2-f23f-4bec-98b9-d7007a341081"
      },
      "execution_count": 2,
      "outputs": [
        {
          "output_type": "stream",
          "name": "stderr",
          "text": [
            "Downloading...\n",
            "From: https://drive.google.com/uc?id=1PY0Jea-Mu1dohKDaCkjA9ppvAGRuRwA2\n",
            "To: /content/magalu.csv\n",
            "100%|██████████| 94.1k/94.1k [00:00<00:00, 25.6MB/s]\n"
          ]
        },
        {
          "output_type": "execute_result",
          "data": {
            "text/plain": [
              "'magalu.csv'"
            ],
            "application/vnd.google.colaboratory.intrinsic+json": {
              "type": "string"
            }
          },
          "metadata": {},
          "execution_count": 2
        }
      ]
    },
    {
      "cell_type": "code",
      "source": [
        "dataframe = pd.read_csv(nome_arquivo) # Carregando o csv das ofertas\n"
      ],
      "metadata": {
        "id": "DFVIbvJ379Hn"
      },
      "execution_count": 3,
      "outputs": []
    },
    {
      "cell_type": "markdown",
      "source": [
        "##Pre-processamento"
      ],
      "metadata": {
        "id": "NKdzhkGkAVPm"
      }
    },
    {
      "cell_type": "code",
      "source": [
        "dataframe = dataframe.drop_duplicates() #Removendo duplicadas\n",
        "dataframe = dataframe[dataframe['status'] != 'FINISHED'] # Retirando ofertas antigas\n",
        "dataframe['status'] = dataframe['status'].replace('APPROVED', 1) # Mudando o valor de string para int\n",
        "#dataframe['status'] = dataframe['status'].replace('FINISHED', 0) # Mudando o valor de string para int\n",
        "dataframe['status'] = dataframe['status'].replace('REPPROVED', 0) # Mudando o valor de string para int\n",
        "\n",
        "#Retirando linhas quando os valores de historico de ano, 6 meses e 3 meses do zoom forem igual a zero\n",
        "dataframe = dataframe[dataframe['average_year'] > 0]\n",
        "dataframe = dataframe[dataframe['var_year'] > 0]\n",
        "dataframe = dataframe[dataframe['std_year'] > 0]\n",
        "\n",
        "dataframe = dataframe[dataframe['average_six_months'] > 0]\n",
        "dataframe = dataframe[dataframe['var_six_months'] > 0]\n",
        "dataframe = dataframe[dataframe['std_six_months'] > 0]\n",
        "\n",
        "dataframe = dataframe[dataframe['average_three_months'] > 0]\n",
        "dataframe = dataframe[dataframe['var_three_months'] > 0]\n",
        "dataframe = dataframe[dataframe['std_three_months'] > 0]\n",
        "\n",
        "del dataframe['var_year']\n",
        "#del dataframe['std_year']\n",
        "\n",
        "del dataframe['var_six_months']\n",
        "#del dataframe['std_six_months']\n",
        "\n",
        "del dataframe['var_three_months']\n",
        "#del dataframe['std_three_months']\n"
      ],
      "metadata": {
        "id": "GMZmdwtNAX00"
      },
      "execution_count": 4,
      "outputs": []
    },
    {
      "cell_type": "code",
      "source": [
        "# Separando os dados entre treinamento e treino\n",
        "X = dataframe.iloc[:,1:]\n",
        "# a última coluna se refere a classe\n",
        "y = dataframe.loc[:,'status']\n",
        "X_train, X_test, y_train, y_test = train_test_split(X, y, test_size=0.2, random_state=42, stratify=y)\n",
        "X_train.info()"
      ],
      "metadata": {
        "colab": {
          "base_uri": "https://localhost:8080/"
        },
        "id": "K16ziYs99LV2",
        "outputId": "178d3285-a813-4ab3-da14-91c9b6f0b6cd"
      },
      "execution_count": 5,
      "outputs": [
        {
          "output_type": "stream",
          "name": "stdout",
          "text": [
            "<class 'pandas.core.frame.DataFrame'>\n",
            "Int64Index: 156 entries, 297 to 116\n",
            "Data columns (total 9 columns):\n",
            " #   Column                Non-Null Count  Dtype  \n",
            "---  ------                --------------  -----  \n",
            " 0   price                 156 non-null    float64\n",
            " 1   old_price             156 non-null    float64\n",
            " 2   average_year          156 non-null    float64\n",
            " 3   std_year              156 non-null    int64  \n",
            " 4   average_six_months    156 non-null    float64\n",
            " 5   std_six_months        156 non-null    float64\n",
            " 6   average_three_months  156 non-null    float64\n",
            " 7   std_three_months      156 non-null    float64\n",
            " 8   status                156 non-null    int64  \n",
            "dtypes: float64(7), int64(2)\n",
            "memory usage: 12.2 KB\n"
          ]
        }
      ]
    },
    {
      "cell_type": "markdown",
      "source": [
        "##Treinamento"
      ],
      "metadata": {
        "id": "epdAfI18-Q5P"
      }
    },
    {
      "cell_type": "code",
      "source": [
        "mlp = MLPClassifier(activation='identity',solver='lbfgs',hidden_layer_sizes=(30), random_state=1, learning_rate_init=0.001)\n",
        "\n",
        "mlp.fit(X_train,y_train)\n",
        "\n",
        "y_pred = mlp.predict(X_test)\n",
        "mlp.score(X_test, y_test)\n",
        "print(classification_report(y_test,y_pred))\n"
      ],
      "metadata": {
        "colab": {
          "base_uri": "https://localhost:8080/"
        },
        "id": "mXssZa4H-USl",
        "outputId": "ea249a4a-ed35-4dc1-c1e1-6c3254393f03"
      },
      "execution_count": 23,
      "outputs": [
        {
          "output_type": "stream",
          "name": "stdout",
          "text": [
            "              precision    recall  f1-score   support\n",
            "\n",
            "           0       0.54      1.00      0.70        21\n",
            "           1       0.00      0.00      0.00        18\n",
            "\n",
            "    accuracy                           0.54        39\n",
            "   macro avg       0.27      0.50      0.35        39\n",
            "weighted avg       0.29      0.54      0.38        39\n",
            "\n"
          ]
        },
        {
          "output_type": "stream",
          "name": "stderr",
          "text": [
            "/usr/local/lib/python3.10/dist-packages/sklearn/neural_network/_multilayer_perceptron.py:541: ConvergenceWarning: lbfgs failed to converge (status=2):\n",
            "ABNORMAL_TERMINATION_IN_LNSRCH.\n",
            "\n",
            "Increase the number of iterations (max_iter) or scale the data as shown in:\n",
            "    https://scikit-learn.org/stable/modules/preprocessing.html\n",
            "  self.n_iter_ = _check_optimize_result(\"lbfgs\", opt_res, self.max_iter)\n",
            "/usr/local/lib/python3.10/dist-packages/sklearn/metrics/_classification.py:1344: UndefinedMetricWarning: Precision and F-score are ill-defined and being set to 0.0 in labels with no predicted samples. Use `zero_division` parameter to control this behavior.\n",
            "  _warn_prf(average, modifier, msg_start, len(result))\n",
            "/usr/local/lib/python3.10/dist-packages/sklearn/metrics/_classification.py:1344: UndefinedMetricWarning: Precision and F-score are ill-defined and being set to 0.0 in labels with no predicted samples. Use `zero_division` parameter to control this behavior.\n",
            "  _warn_prf(average, modifier, msg_start, len(result))\n",
            "/usr/local/lib/python3.10/dist-packages/sklearn/metrics/_classification.py:1344: UndefinedMetricWarning: Precision and F-score are ill-defined and being set to 0.0 in labels with no predicted samples. Use `zero_division` parameter to control this behavior.\n",
            "  _warn_prf(average, modifier, msg_start, len(result))\n"
          ]
        }
      ]
    },
    {
      "cell_type": "markdown",
      "source": [
        "##Comparando as funções de ativação"
      ],
      "metadata": {
        "id": "tysuVoBDuX4X"
      }
    },
    {
      "cell_type": "code",
      "source": [
        "funcoes_ativacao = [ 'identity', 'logistic', 'tanh', 'relu']\n",
        "resultados = {}\n",
        "for funcao in funcoes_ativacao:\n",
        "  mlp = MLPClassifier(activation=funcao,solver='adam',hidden_layer_sizes=(30), random_state=1, learning_rate_init=0.001)\n",
        "\n",
        "  mlp.fit(X_train,y_train)\n",
        "\n",
        "  y_pred = mlp.predict(X_test)\n",
        "  mlp.score(X_test, y_test)\n",
        "\n",
        "  resultados[funcao] = accuracy_score(y_test,y_pred)\n",
        "\n",
        "plt.plot(funcoes_ativacao,list(resultados.values()))"
      ],
      "metadata": {
        "colab": {
          "base_uri": "https://localhost:8080/",
          "height": 579
        },
        "id": "ts-9mVXlucZQ",
        "outputId": "9db38bd0-95d5-4f3e-b804-599b38edabca"
      },
      "execution_count": 13,
      "outputs": [
        {
          "output_type": "stream",
          "name": "stderr",
          "text": [
            "/usr/local/lib/python3.10/dist-packages/sklearn/neural_network/_multilayer_perceptron.py:686: ConvergenceWarning: Stochastic Optimizer: Maximum iterations (200) reached and the optimization hasn't converged yet.\n",
            "  warnings.warn(\n",
            "/usr/local/lib/python3.10/dist-packages/sklearn/neural_network/_multilayer_perceptron.py:686: ConvergenceWarning: Stochastic Optimizer: Maximum iterations (200) reached and the optimization hasn't converged yet.\n",
            "  warnings.warn(\n",
            "/usr/local/lib/python3.10/dist-packages/sklearn/neural_network/_multilayer_perceptron.py:686: ConvergenceWarning: Stochastic Optimizer: Maximum iterations (200) reached and the optimization hasn't converged yet.\n",
            "  warnings.warn(\n"
          ]
        },
        {
          "output_type": "execute_result",
          "data": {
            "text/plain": [
              "[<matplotlib.lines.Line2D at 0x7c2ce53ab310>]"
            ]
          },
          "metadata": {},
          "execution_count": 13
        },
        {
          "output_type": "display_data",
          "data": {
            "text/plain": [
              "<Figure size 640x480 with 1 Axes>"
            ],
            "image/png": "[encoded data removed]"
          },
          "metadata": {}
        }
      ]
    },
    {
      "cell_type": "markdown",
      "source": [
        "##Encontrando o melhor algoritmo de correção de pesos"
      ],
      "metadata": {
        "id": "uw5m2Qfvxrsm"
      }
    },
    {
      "cell_type": "code",
      "source": [
        "funcoes_correcao = [ 'lbfgs', 'adam', 'sgd']\n",
        "resultados = {}\n",
        "for funcao in funcoes_correcao:\n",
        "  mlp = MLPClassifier(activation='relu',solver=funcao,hidden_layer_sizes=(30), random_state=1, learning_rate_init=0.001)\n",
        "\n",
        "  mlp.fit(X_train,y_train)\n",
        "\n",
        "  y_pred = mlp.predict(X_test)\n",
        "  mlp.score(X_test, y_test)\n",
        "\n",
        "  resultados[funcao] = accuracy_score(y_test,y_pred)\n",
        "\n",
        "plt.plot(funcoes_correcao,list(resultados.values()))"
      ],
      "metadata": {
        "colab": {
          "base_uri": "https://localhost:8080/",
          "height": 616
        },
        "id": "cHCkC7iExw6j",
        "outputId": "ca2c2cf5-0f78-4c7a-9009-d9ce02275d7e"
      },
      "execution_count": 15,
      "outputs": [
        {
          "output_type": "stream",
          "name": "stderr",
          "text": [
            "/usr/local/lib/python3.10/dist-packages/sklearn/neural_network/_multilayer_perceptron.py:541: ConvergenceWarning: lbfgs failed to converge (status=2):\n",
            "ABNORMAL_TERMINATION_IN_LNSRCH.\n",
            "\n",
            "Increase the number of iterations (max_iter) or scale the data as shown in:\n",
            "    https://scikit-learn.org/stable/modules/preprocessing.html\n",
            "  self.n_iter_ = _check_optimize_result(\"lbfgs\", opt_res, self.max_iter)\n",
            "/usr/local/lib/python3.10/dist-packages/sklearn/neural_network/_multilayer_perceptron.py:686: ConvergenceWarning: Stochastic Optimizer: Maximum iterations (200) reached and the optimization hasn't converged yet.\n",
            "  warnings.warn(\n"
          ]
        },
        {
          "output_type": "execute_result",
          "data": {
            "text/plain": [
              "[<matplotlib.lines.Line2D at 0x7c2ce4fd8370>]"
            ]
          },
          "metadata": {},
          "execution_count": 15
        },
        {
          "output_type": "display_data",
          "data": {
            "text/plain": [
              "<Figure size 640x480 with 1 Axes>"
            ],
            "image/png": "[encoded data removed]"
          },
          "metadata": {}
        }
      ]
    },
    {
      "cell_type": "markdown",
      "source": [
        "##Encontrando uma quantidade de camadas adequadas"
      ],
      "metadata": {
        "id": "l3Zmc0mUyHwn"
      }
    },
    {
      "cell_type": "code",
      "source": [
        "resultados = {}\n",
        "camadas = range(5, 100, 5)\n",
        "for qtd_camadas in camadas:\n",
        "  mlp = MLPClassifier(activation='relu',solver='adam',hidden_layer_sizes=(qtd_camadas), random_state=1, learning_rate_init=0.001)\n",
        "\n",
        "  mlp.fit(X_train,y_train)\n",
        "\n",
        "  y_pred = mlp.predict(X_test)\n",
        "  mlp.score(X_test, y_test)\n",
        "\n",
        "  resultados[qtd_camadas] = accuracy_score(y_test,y_pred)\n",
        "\n",
        "plt.plot(camadas,list(resultados.values()))"
      ],
      "metadata": {
        "colab": {
          "base_uri": "https://localhost:8080/",
          "height": 690
        },
        "id": "FFdYZ7F8yVrc",
        "outputId": "1710dcd7-1236-42c0-b171-29012ae71ac7"
      },
      "execution_count": 18,
      "outputs": [
        {
          "output_type": "stream",
          "name": "stderr",
          "text": [
            "/usr/local/lib/python3.10/dist-packages/sklearn/neural_network/_multilayer_perceptron.py:686: ConvergenceWarning: Stochastic Optimizer: Maximum iterations (200) reached and the optimization hasn't converged yet.\n",
            "  warnings.warn(\n",
            "/usr/local/lib/python3.10/dist-packages/sklearn/neural_network/_multilayer_perceptron.py:686: ConvergenceWarning: Stochastic Optimizer: Maximum iterations (200) reached and the optimization hasn't converged yet.\n",
            "  warnings.warn(\n",
            "/usr/local/lib/python3.10/dist-packages/sklearn/neural_network/_multilayer_perceptron.py:686: ConvergenceWarning: Stochastic Optimizer: Maximum iterations (200) reached and the optimization hasn't converged yet.\n",
            "  warnings.warn(\n",
            "/usr/local/lib/python3.10/dist-packages/sklearn/neural_network/_multilayer_perceptron.py:686: ConvergenceWarning: Stochastic Optimizer: Maximum iterations (200) reached and the optimization hasn't converged yet.\n",
            "  warnings.warn(\n",
            "/usr/local/lib/python3.10/dist-packages/sklearn/neural_network/_multilayer_perceptron.py:686: ConvergenceWarning: Stochastic Optimizer: Maximum iterations (200) reached and the optimization hasn't converged yet.\n",
            "  warnings.warn(\n",
            "/usr/local/lib/python3.10/dist-packages/sklearn/neural_network/_multilayer_perceptron.py:686: ConvergenceWarning: Stochastic Optimizer: Maximum iterations (200) reached and the optimization hasn't converged yet.\n",
            "  warnings.warn(\n"
          ]
        },
        {
          "output_type": "execute_result",
          "data": {
            "text/plain": [
              "[<matplotlib.lines.Line2D at 0x7c2ce4d3c520>]"
            ]
          },
          "metadata": {},
          "execution_count": 18
        },
        {
          "output_type": "display_data",
          "data": {
            "text/plain": [
              "<Figure size 640x480 with 1 Axes>"
            ],
            "image/png": "[encoded data removed]"
          },
          "metadata": {}
        }
      ]
    },
    {
      "cell_type": "markdown",
      "source": [
        "##Melhor combinação foi encontrada"
      ],
      "metadata": {
        "id": "0RivOT8d3HjB"
      }
    },
    {
      "cell_type": "code",
      "source": [
        "mlp = MLPClassifier(activation='relu',solver='adam',hidden_layer_sizes=(30), random_state=1, learning_rate_init=0.001)\n",
        "\n",
        "mlp.fit(X_train,y_train)\n",
        "\n",
        "y_pred = mlp.predict(X_test)\n",
        "mlp.score(X_test, y_test)\n",
        "\n",
        "#print(accuracy_score(y_test,y_pred))\n",
        "\n",
        "print(classification_report(y_test,y_pred))\n"
      ],
      "metadata": {
        "colab": {
          "base_uri": "https://localhost:8080/"
        },
        "id": "QUkQfX4f3PuP",
        "outputId": "a2881e13-f29f-4279-e894-04ed852c214f"
      },
      "execution_count": 19,
      "outputs": [
        {
          "output_type": "stream",
          "name": "stdout",
          "text": [
            "              precision    recall  f1-score   support\n",
            "\n",
            "           0       0.95      0.95      0.95        21\n",
            "           1       0.94      0.94      0.94        18\n",
            "\n",
            "    accuracy                           0.95        39\n",
            "   macro avg       0.95      0.95      0.95        39\n",
            "weighted avg       0.95      0.95      0.95        39\n",
            "\n"
          ]
        },
        {
          "output_type": "stream",
          "name": "stderr",
          "text": [
            "/usr/local/lib/python3.10/dist-packages/sklearn/neural_network/_multilayer_perceptron.py:686: ConvergenceWarning: Stochastic Optimizer: Maximum iterations (200) reached and the optimization hasn't converged yet.\n",
            "  warnings.warn(\n"
          ]
        }
      ]
    }
  ]
}