{
  "nbformat": 4,
  "nbformat_minor": 0,
  "metadata": {
    "colab": {
      "provenance": [],
      "authorship_tag": "ABX9TyPhXVgNeEoK/OXySMrporM2",
      "include_colab_link": true
    },
    "kernelspec": {
      "name": "python3",
      "display_name": "Python 3"
    },
    "language_info": {
      "name": "python"
    }
  },
  "cells": [
    {
      "cell_type": "markdown",
      "metadata": {
        "id": "view-in-github",
        "colab_type": "text"
      },
      "source": [
        "<a href=\"https://colab.research.google.com/github/joseluan/ml_magalu/blob/main/Magalu_rede_neural.ipynb\" target=\"_parent\"><img src=\"https://colab.research.google.com/assets/colab-badge.svg\" alt=\"Open In Colab\"/></a>"
      ]
    },
    {
      "cell_type": "code",
      "execution_count": 18,
      "metadata": {
        "id": "f7lDrvEh7Bix"
      },
      "outputs": [],
      "source": [
        "# Importar bibliotecas\n",
        "from sklearn.model_selection import train_test_split\n",
        "from sklearn.neural_network import MLPClassifier\n",
        "from sklearn.metrics import classification_report, confusion_matrix, accuracy_score\n",
        "import matplotlib.pyplot as plt\n",
        "import numpy as np\n",
        "import pandas as pd\n",
        "import nltk\n",
        "import gdown"
      ]
    },
    {
      "cell_type": "code",
      "source": [
        "\n",
        "nome_arquivo = 'magalu.csv'\n",
        "# Baixando o csv das ofertas\n",
        "gdown.download(url='https://drive.google.com/file/d/1PY0Jea-Mu1dohKDaCkjA9ppvAGRuRwA2/view?usp=sharing', output=nome_arquivo, quiet=False, fuzzy=True)"
      ],
      "metadata": {
        "colab": {
          "base_uri": "https://localhost:8080/",
          "height": 110
        },
        "id": "BF0PnKrs7TTJ",
        "outputId": "8b31b178-c657-468f-85cd-bb4421fe5c83"
      },
      "execution_count": 19,
      "outputs": [
        {
          "output_type": "stream",
          "name": "stderr",
          "text": [
            "Downloading...\n",
            "From: https://drive.google.com/uc?id=1PY0Jea-Mu1dohKDaCkjA9ppvAGRuRwA2\n",
            "To: /content/magalu.csv\n",
            "100%|██████████| 94.1k/94.1k [00:00<00:00, 39.2MB/s]\n"
          ]
        },
        {
          "output_type": "execute_result",
          "data": {
            "text/plain": [
              "'magalu.csv'"
            ],
            "application/vnd.google.colaboratory.intrinsic+json": {
              "type": "string"
            }
          },
          "metadata": {},
          "execution_count": 19
        }
      ]
    },
    {
      "cell_type": "code",
      "source": [
        "dataframe = pd.read_csv(nome_arquivo) # Carregando o csv das ofertas\n",
        "dataframe.info()"
      ],
      "metadata": {
        "id": "DFVIbvJ379Hn",
        "colab": {
          "base_uri": "https://localhost:8080/"
        },
        "outputId": "f15a7f53-87f0-4dde-f4fe-be4246ad103d"
      },
      "execution_count": 29,
      "outputs": [
        {
          "output_type": "stream",
          "name": "stdout",
          "text": [
            "<class 'pandas.core.frame.DataFrame'>\n",
            "RangeIndex: 656 entries, 0 to 655\n",
            "Data columns (total 13 columns):\n",
            " #   Column                Non-Null Count  Dtype  \n",
            "---  ------                --------------  -----  \n",
            " 0   nome                  656 non-null    object \n",
            " 1   price                 656 non-null    float64\n",
            " 2   old_price             656 non-null    float64\n",
            " 3   average_year          656 non-null    float64\n",
            " 4   var_year              656 non-null    int64  \n",
            " 5   std_year              656 non-null    int64  \n",
            " 6   average_six_months    656 non-null    float64\n",
            " 7   var_six_months        656 non-null    float64\n",
            " 8   std_six_months        656 non-null    float64\n",
            " 9   average_three_months  656 non-null    float64\n",
            " 10  var_three_months      656 non-null    float64\n",
            " 11  std_three_months      656 non-null    float64\n",
            " 12  status                656 non-null    object \n",
            "dtypes: float64(9), int64(2), object(2)\n",
            "memory usage: 66.8+ KB\n"
          ]
        }
      ]
    },
    {
      "cell_type": "markdown",
      "source": [
        "##Pre-processamento"
      ],
      "metadata": {
        "id": "NKdzhkGkAVPm"
      }
    },
    {
      "cell_type": "code",
      "source": [
        "#dataframe = dataframe.drop_duplicates() #Removendo duplicadas\n",
        "print('Tamanho do dataframe', len(dataframe.loc[:,'status']))\n",
        "dataframe = dataframe[dataframe['status'] != 'FINISHED'] # Retirando ofertas antigas\n",
        "dataframe['status'] = dataframe['status'].replace('APPROVED', 1) # Mudando o valor de string para int\n",
        "#dataframe['status'] = dataframe['status'].replace('FINISHED', 0) # Mudando o valor de string para int\n",
        "dataframe['status'] = dataframe['status'].replace('REPPROVED', 0) # Mudando o valor de string para int\n",
        "\n",
        "print('Tamanho do dataframe', len(dataframe.loc[:,'status']))\n",
        "#Retirando linhas quando os valores de historico de ano, 6 meses e 3 meses do zoom forem igual a zero\n",
        "dataframe = dataframe[dataframe['average_year'] > 0]\n",
        "dataframe = dataframe[dataframe['var_year'] > 0]\n",
        "dataframe = dataframe[dataframe['std_year'] > 0]\n",
        "\n",
        "print('Tamanho do dataframe', len(dataframe.loc[:,'status']))\n",
        "dataframe = dataframe[dataframe['average_six_months'] > 0]\n",
        "dataframe = dataframe[dataframe['var_six_months'] > 0]\n",
        "dataframe = dataframe[dataframe['std_six_months'] > 0]\n",
        "\n",
        "print('Tamanho do dataframe', len(dataframe.loc[:,'status']))\n",
        "dataframe = dataframe[dataframe['average_three_months'] > 0]\n",
        "dataframe = dataframe[dataframe['var_three_months'] > 0]\n",
        "dataframe = dataframe[dataframe['std_three_months'] > 0]\n",
        "\n",
        "print('Tamanho do dataframe', len(dataframe.loc[:,'status']))\n",
        "#del dataframe['var_year']\n",
        "#del dataframe['std_year']\n",
        "\n",
        "#del dataframe['var_six_months']\n",
        "#del dataframe['std_six_months']\n",
        "\n",
        "#del dataframe['var_three_months']\n",
        "#del dataframe['std_three_months']\n"
      ],
      "metadata": {
        "id": "GMZmdwtNAX00",
        "colab": {
          "base_uri": "https://localhost:8080/"
        },
        "outputId": "c3ea28ad-c50e-44ca-953b-273e1a31f6e2"
      },
      "execution_count": 30,
      "outputs": [
        {
          "output_type": "stream",
          "name": "stdout",
          "text": [
            "Tamanho do dataframe 656\n",
            "Tamanho do dataframe 461\n",
            "Tamanho do dataframe 441\n",
            "Tamanho do dataframe 428\n",
            "Tamanho do dataframe 423\n"
          ]
        },
        {
          "output_type": "stream",
          "name": "stderr",
          "text": [
            "<ipython-input-30-843e30a2a290>:4: SettingWithCopyWarning: \n",
            "A value is trying to be set on a copy of a slice from a DataFrame.\n",
            "Try using .loc[row_indexer,col_indexer] = value instead\n",
            "\n",
            "See the caveats in the documentation: https://pandas.pydata.org/pandas-docs/stable/user_guide/indexing.html#returning-a-view-versus-a-copy\n",
            "  dataframe['status'] = dataframe['status'].replace('APPROVED', 1) # Mudando o valor de string para int\n",
            "<ipython-input-30-843e30a2a290>:6: SettingWithCopyWarning: \n",
            "A value is trying to be set on a copy of a slice from a DataFrame.\n",
            "Try using .loc[row_indexer,col_indexer] = value instead\n",
            "\n",
            "See the caveats in the documentation: https://pandas.pydata.org/pandas-docs/stable/user_guide/indexing.html#returning-a-view-versus-a-copy\n",
            "  dataframe['status'] = dataframe['status'].replace('REPPROVED', 0) # Mudando o valor de string para int\n"
          ]
        }
      ]
    },
    {
      "cell_type": "code",
      "source": [
        "# Separando os dados entre treinamento e treino\n",
        "X = dataframe.iloc[:,1:]\n",
        "# a última coluna se refere a classe\n",
        "y = dataframe.loc[:,'status']\n",
        "X_train, X_test, y_train, y_test = train_test_split(X, y, test_size=0.2, random_state=42, stratify=y)\n",
        "X_train.info()\n",
        "\n",
        "dataframe.info()"
      ],
      "metadata": {
        "colab": {
          "base_uri": "https://localhost:8080/"
        },
        "id": "K16ziYs99LV2",
        "outputId": "af30b4a9-bfe7-4dd6-cd9e-8c13fd4731ca"
      },
      "execution_count": 34,
      "outputs": [
        {
          "output_type": "stream",
          "name": "stdout",
          "text": [
            "<class 'pandas.core.frame.DataFrame'>\n",
            "Int64Index: 338 entries, 144 to 177\n",
            "Data columns (total 12 columns):\n",
            " #   Column                Non-Null Count  Dtype  \n",
            "---  ------                --------------  -----  \n",
            " 0   price                 338 non-null    float64\n",
            " 1   old_price             338 non-null    float64\n",
            " 2   average_year          338 non-null    float64\n",
            " 3   var_year              338 non-null    int64  \n",
            " 4   std_year              338 non-null    int64  \n",
            " 5   average_six_months    338 non-null    float64\n",
            " 6   var_six_months        338 non-null    float64\n",
            " 7   std_six_months        338 non-null    float64\n",
            " 8   average_three_months  338 non-null    float64\n",
            " 9   var_three_months      338 non-null    float64\n",
            " 10  std_three_months      338 non-null    float64\n",
            " 11  status                338 non-null    int64  \n",
            "dtypes: float64(9), int64(3)\n",
            "memory usage: 34.3 KB\n",
            "<class 'pandas.core.frame.DataFrame'>\n",
            "Int64Index: 423 entries, 1 to 655\n",
            "Data columns (total 13 columns):\n",
            " #   Column                Non-Null Count  Dtype  \n",
            "---  ------                --------------  -----  \n",
            " 0   nome                  423 non-null    object \n",
            " 1   price                 423 non-null    float64\n",
            " 2   old_price             423 non-null    float64\n",
            " 3   average_year          423 non-null    float64\n",
            " 4   var_year              423 non-null    int64  \n",
            " 5   std_year              423 non-null    int64  \n",
            " 6   average_six_months    423 non-null    float64\n",
            " 7   var_six_months        423 non-null    float64\n",
            " 8   std_six_months        423 non-null    float64\n",
            " 9   average_three_months  423 non-null    float64\n",
            " 10  var_three_months      423 non-null    float64\n",
            " 11  std_three_months      423 non-null    float64\n",
            " 12  status                423 non-null    int64  \n",
            "dtypes: float64(9), int64(3), object(1)\n",
            "memory usage: 62.4+ KB\n"
          ]
        }
      ]
    },
    {
      "cell_type": "markdown",
      "source": [
        "##Treinamento"
      ],
      "metadata": {
        "id": "epdAfI18-Q5P"
      }
    },
    {
      "cell_type": "code",
      "source": [
        "mlp = MLPClassifier(activation='identity',solver='lbfgs',hidden_layer_sizes=(30), random_state=1, learning_rate_init=0.001)\n",
        "\n",
        "mlp.fit(X_train,y_train)\n",
        "\n",
        "y_pred = mlp.predict(X_test)\n",
        "mlp.score(X_test, y_test)\n",
        "print(classification_report(y_test,y_pred))\n"
      ],
      "metadata": {
        "colab": {
          "base_uri": "https://localhost:8080/"
        },
        "id": "mXssZa4H-USl",
        "outputId": "3e5c777e-09ae-452b-80bb-6873f88a0b09"
      },
      "execution_count": 35,
      "outputs": [
        {
          "output_type": "stream",
          "name": "stdout",
          "text": [
            "              precision    recall  f1-score   support\n",
            "\n",
            "           0       0.00      0.00      0.00        21\n",
            "           1       0.75      1.00      0.86        64\n",
            "\n",
            "    accuracy                           0.75        85\n",
            "   macro avg       0.38      0.50      0.43        85\n",
            "weighted avg       0.57      0.75      0.65        85\n",
            "\n"
          ]
        },
        {
          "output_type": "stream",
          "name": "stderr",
          "text": [
            "/usr/local/lib/python3.10/dist-packages/sklearn/neural_network/_multilayer_perceptron.py:541: ConvergenceWarning: lbfgs failed to converge (status=2):\n",
            "ABNORMAL_TERMINATION_IN_LNSRCH.\n",
            "\n",
            "Increase the number of iterations (max_iter) or scale the data as shown in:\n",
            "    https://scikit-learn.org/stable/modules/preprocessing.html\n",
            "  self.n_iter_ = _check_optimize_result(\"lbfgs\", opt_res, self.max_iter)\n",
            "/usr/local/lib/python3.10/dist-packages/sklearn/metrics/_classification.py:1344: UndefinedMetricWarning: Precision and F-score are ill-defined and being set to 0.0 in labels with no predicted samples. Use `zero_division` parameter to control this behavior.\n",
            "  _warn_prf(average, modifier, msg_start, len(result))\n",
            "/usr/local/lib/python3.10/dist-packages/sklearn/metrics/_classification.py:1344: UndefinedMetricWarning: Precision and F-score are ill-defined and being set to 0.0 in labels with no predicted samples. Use `zero_division` parameter to control this behavior.\n",
            "  _warn_prf(average, modifier, msg_start, len(result))\n",
            "/usr/local/lib/python3.10/dist-packages/sklearn/metrics/_classification.py:1344: UndefinedMetricWarning: Precision and F-score are ill-defined and being set to 0.0 in labels with no predicted samples. Use `zero_division` parameter to control this behavior.\n",
            "  _warn_prf(average, modifier, msg_start, len(result))\n"
          ]
        }
      ]
    },
    {
      "cell_type": "markdown",
      "source": [
        "##Comparando as funções de ativação"
      ],
      "metadata": {
        "id": "tysuVoBDuX4X"
      }
    },
    {
      "cell_type": "code",
      "source": [
        "funcoes_ativacao = [ 'identity', 'logistic', 'tanh', 'relu']\n",
        "resultados = {}\n",
        "for funcao in funcoes_ativacao:\n",
        "  mlp = MLPClassifier(activation=funcao,solver='adam',hidden_layer_sizes=(30), random_state=1, learning_rate_init=0.001)\n",
        "\n",
        "  mlp.fit(X_train,y_train)\n",
        "\n",
        "  y_pred = mlp.predict(X_test)\n",
        "  mlp.score(X_test, y_test)\n",
        "\n",
        "  resultados[funcao] = accuracy_score(y_test,y_pred)\n",
        "\n",
        "plt.plot(funcoes_ativacao,list(resultados.values()))"
      ],
      "metadata": {
        "colab": {
          "base_uri": "https://localhost:8080/",
          "height": 505
        },
        "id": "ts-9mVXlucZQ",
        "outputId": "7ad04466-25b4-4cb0-b465-6058ead1541a"
      },
      "execution_count": 36,
      "outputs": [
        {
          "output_type": "stream",
          "name": "stderr",
          "text": [
            "/usr/local/lib/python3.10/dist-packages/sklearn/neural_network/_multilayer_perceptron.py:686: ConvergenceWarning: Stochastic Optimizer: Maximum iterations (200) reached and the optimization hasn't converged yet.\n",
            "  warnings.warn(\n"
          ]
        },
        {
          "output_type": "execute_result",
          "data": {
            "text/plain": [
              "[<matplotlib.lines.Line2D at 0x7d7a4d9c3a60>]"
            ]
          },
          "metadata": {},
          "execution_count": 36
        },
        {
          "output_type": "display_data",
          "data": {
            "text/plain": [
              "<Figure size 640x480 with 1 Axes>"
            ],
            "image/png": "[encoded data removed]"
          },
          "metadata": {}
        }
      ]
    },
    {
      "cell_type": "markdown",
      "source": [
        "##Encontrando o melhor algoritmo de correção de pesos"
      ],
      "metadata": {
        "id": "uw5m2Qfvxrsm"
      }
    },
    {
      "cell_type": "code",
      "source": [
        "funcoes_correcao = [ 'lbfgs', 'adam', 'sgd']\n",
        "resultados = {}\n",
        "for funcao in funcoes_correcao:\n",
        "  mlp = MLPClassifier(activation='logistic',solver=funcao,hidden_layer_sizes=(30), random_state=1, learning_rate_init=0.001)\n",
        "\n",
        "  mlp.fit(X_train,y_train)\n",
        "\n",
        "  y_pred = mlp.predict(X_test)\n",
        "  mlp.score(X_test, y_test)\n",
        "\n",
        "  resultados[funcao] = accuracy_score(y_test,y_pred)\n",
        "\n",
        "plt.plot(funcoes_correcao,list(resultados.values()))"
      ],
      "metadata": {
        "colab": {
          "base_uri": "https://localhost:8080/",
          "height": 621
        },
        "id": "cHCkC7iExw6j",
        "outputId": "4a609ac0-09d6-46a8-9fc6-8c6ee1737805"
      },
      "execution_count": 37,
      "outputs": [
        {
          "output_type": "stream",
          "name": "stderr",
          "text": [
            "/usr/local/lib/python3.10/dist-packages/sklearn/neural_network/_multilayer_perceptron.py:541: ConvergenceWarning: lbfgs failed to converge (status=1):\n",
            "STOP: TOTAL NO. of ITERATIONS REACHED LIMIT.\n",
            "\n",
            "Increase the number of iterations (max_iter) or scale the data as shown in:\n",
            "    https://scikit-learn.org/stable/modules/preprocessing.html\n",
            "  self.n_iter_ = _check_optimize_result(\"lbfgs\", opt_res, self.max_iter)\n",
            "/usr/local/lib/python3.10/dist-packages/sklearn/neural_network/_multilayer_perceptron.py:686: ConvergenceWarning: Stochastic Optimizer: Maximum iterations (200) reached and the optimization hasn't converged yet.\n",
            "  warnings.warn(\n"
          ]
        },
        {
          "output_type": "execute_result",
          "data": {
            "text/plain": [
              "[<matplotlib.lines.Line2D at 0x7d7a4c8cb7f0>]"
            ]
          },
          "metadata": {},
          "execution_count": 37
        },
        {
          "output_type": "display_data",
          "data": {
            "text/plain": [
              "<Figure size 640x480 with 1 Axes>"
            ],
            "image/png": "[encoded data removed]"
          },
          "metadata": {}
        }
      ]
    },
    {
      "cell_type": "markdown",
      "source": [
        "##Encontrando uma quantidade de camadas adequadas"
      ],
      "metadata": {
        "id": "l3Zmc0mUyHwn"
      }
    },
    {
      "cell_type": "code",
      "source": [
        "resultados = {}\n",
        "camadas = range(5, 30, 5)\n",
        "for qtd_camadas in camadas:\n",
        "  mlp = MLPClassifier(activation='logistic',solver='lbfgs',hidden_layer_sizes=(qtd_camadas), random_state=1, learning_rate_init=0.001)\n",
        "\n",
        "  mlp.fit(X_train,y_train)\n",
        "\n",
        "  y_pred = mlp.predict(X_test)\n",
        "  mlp.score(X_test, y_test)\n",
        "\n",
        "  resultados[qtd_camadas] = accuracy_score(y_test,y_pred)\n",
        "\n",
        "plt.plot(camadas,list(resultados.values()))"
      ],
      "metadata": {
        "colab": {
          "base_uri": "https://localhost:8080/",
          "height": 895
        },
        "id": "FFdYZ7F8yVrc",
        "outputId": "8f75d252-1f7a-467a-cc6e-4c2e452e83f0"
      },
      "execution_count": 38,
      "outputs": [
        {
          "output_type": "stream",
          "name": "stderr",
          "text": [
            "/usr/local/lib/python3.10/dist-packages/sklearn/neural_network/_multilayer_perceptron.py:541: ConvergenceWarning: lbfgs failed to converge (status=1):\n",
            "STOP: TOTAL NO. of ITERATIONS REACHED LIMIT.\n",
            "\n",
            "Increase the number of iterations (max_iter) or scale the data as shown in:\n",
            "    https://scikit-learn.org/stable/modules/preprocessing.html\n",
            "  self.n_iter_ = _check_optimize_result(\"lbfgs\", opt_res, self.max_iter)\n",
            "/usr/local/lib/python3.10/dist-packages/sklearn/neural_network/_multilayer_perceptron.py:541: ConvergenceWarning: lbfgs failed to converge (status=1):\n",
            "STOP: TOTAL NO. of ITERATIONS REACHED LIMIT.\n",
            "\n",
            "Increase the number of iterations (max_iter) or scale the data as shown in:\n",
            "    https://scikit-learn.org/stable/modules/preprocessing.html\n",
            "  self.n_iter_ = _check_optimize_result(\"lbfgs\", opt_res, self.max_iter)\n",
            "/usr/local/lib/python3.10/dist-packages/sklearn/neural_network/_multilayer_perceptron.py:541: ConvergenceWarning: lbfgs failed to converge (status=1):\n",
            "STOP: TOTAL NO. of ITERATIONS REACHED LIMIT.\n",
            "\n",
            "Increase the number of iterations (max_iter) or scale the data as shown in:\n",
            "    https://scikit-learn.org/stable/modules/preprocessing.html\n",
            "  self.n_iter_ = _check_optimize_result(\"lbfgs\", opt_res, self.max_iter)\n",
            "/usr/local/lib/python3.10/dist-packages/sklearn/neural_network/_multilayer_perceptron.py:541: ConvergenceWarning: lbfgs failed to converge (status=1):\n",
            "STOP: TOTAL NO. of ITERATIONS REACHED LIMIT.\n",
            "\n",
            "Increase the number of iterations (max_iter) or scale the data as shown in:\n",
            "    https://scikit-learn.org/stable/modules/preprocessing.html\n",
            "  self.n_iter_ = _check_optimize_result(\"lbfgs\", opt_res, self.max_iter)\n"
          ]
        },
        {
          "output_type": "execute_result",
          "data": {
            "text/plain": [
              "[<matplotlib.lines.Line2D at 0x7d7a4c93a020>]"
            ]
          },
          "metadata": {},
          "execution_count": 38
        },
        {
          "output_type": "display_data",
          "data": {
            "text/plain": [
              "<Figure size 640x480 with 1 Axes>"
            ],
            "image/png": "[encoded data removed]"
          },
          "metadata": {}
        }
      ]
    },
    {
      "cell_type": "markdown",
      "source": [
        "##Melhor combinação foi encontrada"
      ],
      "metadata": {
        "id": "0RivOT8d3HjB"
      }
    },
    {
      "cell_type": "code",
      "source": [
        "mlp = MLPClassifier(activation='logistic',solver='lbfgs',hidden_layer_sizes=(15), random_state=1, learning_rate_init=0.001)\n",
        "\n",
        "mlp.fit(X_train,y_train)\n",
        "\n",
        "y_pred = mlp.predict(X_test)\n",
        "mlp.score(X_test, y_test)\n",
        "\n",
        "print(classification_report(y_test,y_pred))\n"
      ],
      "metadata": {
        "colab": {
          "base_uri": "https://localhost:8080/"
        },
        "id": "QUkQfX4f3PuP",
        "outputId": "b39761e0-7208-40bc-c314-bfdb2b5073f1"
      },
      "execution_count": 39,
      "outputs": [
        {
          "output_type": "stream",
          "name": "stdout",
          "text": [
            "              precision    recall  f1-score   support\n",
            "\n",
            "           0       0.94      0.81      0.87        21\n",
            "           1       0.94      0.98      0.96        64\n",
            "\n",
            "    accuracy                           0.94        85\n",
            "   macro avg       0.94      0.90      0.92        85\n",
            "weighted avg       0.94      0.94      0.94        85\n",
            "\n"
          ]
        },
        {
          "output_type": "stream",
          "name": "stderr",
          "text": [
            "/usr/local/lib/python3.10/dist-packages/sklearn/neural_network/_multilayer_perceptron.py:541: ConvergenceWarning: lbfgs failed to converge (status=1):\n",
            "STOP: TOTAL NO. of ITERATIONS REACHED LIMIT.\n",
            "\n",
            "Increase the number of iterations (max_iter) or scale the data as shown in:\n",
            "    https://scikit-learn.org/stable/modules/preprocessing.html\n",
            "  self.n_iter_ = _check_optimize_result(\"lbfgs\", opt_res, self.max_iter)\n"
          ]
        }
      ]
    }
  ]
}